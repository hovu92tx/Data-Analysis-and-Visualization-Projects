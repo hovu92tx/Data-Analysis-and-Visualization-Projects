dataset2= pd.read_csv('covid_grouped.csv')
print(dataset2.head(10))
print(dataset2.describe())
print(dataset2.info())